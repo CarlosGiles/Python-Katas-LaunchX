{
 "cells": [
  {
   "cell_type": "markdown",
   "metadata": {},
   "source": [
    "## Ejercicio1: Crear y usar listas de Python\n",
    "En una lista agregaremos los 8 planetas del sistema solar y mostraremos lo que \"mide\" la misma lista que deberá ser 8.\n",
    "Cabe mencionar que para practicar los temas pasados, haremos concatenación con los arreglos de código necesarios.\n"
   ]
  },
  {
   "cell_type": "code",
   "execution_count": 15,
   "metadata": {},
   "outputs": [
    {
     "name": "stdout",
     "output_type": "stream",
     "text": [
      "['mercurio', 'venus', 'tierra', 'marte', 'jupiter', 'saturno', 'urano', 'neptuno']\n",
      "El número de planetas en la lista es: 8\n"
     ]
    }
   ],
   "source": [
    "planetas=['mercurio','venus','tierra','marte','jupiter','saturno','urano','neptuno']\n",
    "print(planetas)\n",
    "print(\"El número de planetas en la lista es: \"+str(len(planetas)))"
   ]
  },
  {
   "cell_type": "markdown",
   "metadata": {},
   "source": [
    "## Agregando elementos a la lista\n",
    "Agregamos a pultón"
   ]
  },
  {
   "cell_type": "code",
   "execution_count": 16,
   "metadata": {},
   "outputs": [
    {
     "name": "stdout",
     "output_type": "stream",
     "text": [
      "['mercurio', 'venus', 'tierra', 'marte', 'jupiter', 'saturno', 'urano', 'neptuno', 'pluton']\n",
      "El número de planetas en la lista es: 9\n"
     ]
    }
   ],
   "source": [
    "planetas.append('pluton')\n",
    "print(planetas)\n",
    "print(\"El número de planetas en la lista es: \"+str(len(planetas)))"
   ]
  },
  {
   "cell_type": "markdown",
   "metadata": {},
   "source": [
    "## Ejercicio 2: Trabajando con datos de una lista\n",
    "Usar slices para recuperar partes de una lista\n",
    "Es posible que debas trabajar con diferentes secciones de una lista. En nuestro ejemplo, queremos mostrar planetas más cerca y más lejos del sol de un planeta que el usuario ingresa por teclado.\n",
    "\n",
    "Comienza agregando el código para crear una lista con los planetas."
   ]
  },
  {
   "cell_type": "code",
   "execution_count": 17,
   "metadata": {},
   "outputs": [
    {
     "name": "stdout",
     "output_type": "stream",
     "text": [
      "Aquí están los planetas más cercanos al sol antes demercurio\n",
      "[]\n",
      "Aquí están los planetas más lejanos al sol despuesmercurio\n",
      "['venus', 'tierra', 'marte', 'jupiter', 'saturno', 'urano', 'neptuno']\n"
     ]
    }
   ],
   "source": [
    "# Lista de planetas\n",
    "\n",
    "planetas = ['mercurio','venus','tierra','marte','jupiter','saturno','urano','neptuno']\n",
    "# Solicitamos el nombre de un planeta *Pista:  input()*\n",
    "tu_planeta = input(\"Dame un planeta, empezando con letra mayúscula\")\n",
    "# Busca el planeta en la lista\n",
    "\n",
    "index = planetas.index(tu_planeta)\n",
    "# Muestra los planetas más cercanos al sol\n",
    "\n",
    "print(\"Aquí están los planetas más cercanos al sol antes de\" + tu_planeta)\n",
    "print(planetas[0:index])\n",
    "# Muestra los planetas más lejanos al sol\n",
    "\n",
    "print(\"Aquí están los planetas más lejanos al sol despues\" + tu_planeta)\n",
    "print(planetas[index + 1:])"
   ]
  },
  {
   "cell_type": "markdown",
   "metadata": {},
   "source": [
    "Curso Propedútico de Python para Launch X - Innovacción Virtual.\n",
    "\n",
    "Material de evidencia para las katas de aprendizaje de Carlos Giles\n",
    "\n",
    "Redes:\n",
    "* GitHub: [CarlosGiles](https://github.com/CarlosGiles)\n",
    "* Twitter: [@CharlyGVC](https://twitter.com/CharlyGVC)\n",
    "* Instagram: [gilescharly](https://www.instagram.com/gilescharly/)"
   ]
  }
 ],
 "metadata": {
  "interpreter": {
   "hash": "88b89bc8cb5c8899b4127f55b127c9aad0e9a590f2419bc25d4a6ed22ff04d80"
  },
  "kernelspec": {
   "display_name": "Python 3.9.5 64-bit",
   "language": "python",
   "name": "python3"
  },
  "language_info": {
   "codemirror_mode": {
    "name": "ipython",
    "version": 3
   },
   "file_extension": ".py",
   "mimetype": "text/x-python",
   "name": "python",
   "nbconvert_exporter": "python",
   "pygments_lexer": "ipython3",
   "version": "3.9.5"
  },
  "orig_nbformat": 4
 },
 "nbformat": 4,
 "nbformat_minor": 2
}
