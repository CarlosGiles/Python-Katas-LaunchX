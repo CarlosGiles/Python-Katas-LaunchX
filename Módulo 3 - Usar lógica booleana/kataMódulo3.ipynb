{
 "cells": [
  {
   "cell_type": "markdown",
   "metadata": {},
   "source": [
    "# Ejercicio - Escribir declaraciones if, else, y elif\n",
    "Las instrucciones If te permiten ejecutar condicionalmente código Python. Se usan comúnmente en Python para \"tomar decisiones\" sobre lo que debería suceder a continuación mientras se ejecuta un programa.\n",
    "\n",
    "Para crear una instrucción if en Python, define una expresión de prueba que pueda tener un valor True o False, seguido de un bloque de código con sangría que se ejecutará si se cumple la condición."
   ]
  },
  {
   "cell_type": "code",
   "execution_count": null,
   "metadata": {},
   "outputs": [],
   "source": [
    "if expresion_prueba:\n",
    "    # intrucción(es) a ejecutar\n",
    "Para escribir un programa con una lógica condicional más compleja, puedes agregar instrucciones else y elif al bloque de código. También puedes anidar instrucciones condicionales.\n",
    "\n",
    "if expresion_prueba:\n",
    "    # intrucción(es) a ejecutar\n",
    "    if expresion_prueba:\n",
    "        # intrucción(es) a ejecutar\n",
    "    else: \n",
    "        # intrucción(es) a ejecutar\n",
    "elif expresion_prueba:\n",
    "    # intrucción(es) a ejecutar\n",
    "else:\n",
    "    # intrucción(es) a ejecutar"
   ]
  },
  {
   "cell_type": "markdown",
   "metadata": {},
   "source": [
    "Para este ejercicio, escribirás una lógica condicional que imprima una advertencia si un asteroide se acerca a la Tierra demasiado rápido. La velocidad del asteroide varía dependiendo de lo cerca que esté del sol, y cualquier velocidad superior a 25 kilómetros por segundo (km/s) merece una advertencia.\n",
    "\n",
    "Un asteroide se acerca, y viaja a una velocidad de 49 km/s."
   ]
  },
  {
   "cell_type": "code",
   "execution_count": 1,
   "metadata": {},
   "outputs": [
    {
     "name": "stdout",
     "output_type": "stream",
     "text": [
      "Peligro! Un asteroide se acerca demasiado rápido\n"
     ]
    }
   ],
   "source": [
    "# Añadir el código necesario para crear una variable que guarde la velocidad del asteroide.\n",
    "# Escribe una expresión de prueba para calcular si necesita una advertencia.\n",
    "# Agregue las instrucciones que se ejecutarán si la expresión de prueba es true o false.\n",
    "\n",
    "asteroide = 49\n",
    "if asteroide >= 25.1:\n",
    "    print(\"Peligro! Un asteroide se acerca demasiado rápido\")\n",
    "else:\n",
    "    print(\"No hay peligro\")"
   ]
  },
  {
   "cell_type": "markdown",
   "metadata": {},
   "source": [
    "Si un asteroide entra en la atmósfera de la Tierra a una velocidad mayor o igual a 20 km/s, a veces produce un rayo de luz que se puede ver desde la Tierra. Escribe la lógica condicional que usa declaraciones if, else, y elif para alertar a las personas de todo el mundo que deben buscar un asteroide en el cielo. ¡Hay uno que se dirige a la tierra ahora a una velocidad de 19 km/s!"
   ]
  },
  {
   "cell_type": "code",
   "execution_count": null,
   "metadata": {},
   "outputs": [],
   "source": [
    "# Agrega el código para crear una variable para un asteroide que viaja a 19 km/s\n",
    "# Escribe varias expresiones de prueba para determinar si puedes ver el rayo de luz desde la tierra\n",
    "# Agrega las instrucciones que se ejecutarán si las expresiones de prueba son True o False\n",
    "\n",
    "asteroide = 19\n",
    "if asteroide == 20:\n",
    "    print(\"Debido al asteroide, se puede ver una luz en el cielo!\")\n",
    "elif asteroide > 20:\n",
    "    print(\"Debido al asteroide, se puede ver una luz en el cielo!\")\n",
    "else:\n",
    "    print(\"No hay peligro\")"
   ]
  },
  {
   "cell_type": "markdown",
   "metadata": {},
   "source": [
    "En este ejercicio, aprenderás información más matizada sobre cuándo los asteroides representan un peligro para la Tierra, y utilizarás esa información para mejorar nuestro sistema de advertencia. Aquí está la nueva información que necesitas saber:\n",
    "\n",
    "*Los asteroides de menos de 25 metros en su dimensión más grande probablemente se quemarán a medida que entren en la atmósfera de la Tierra.\n",
    "\n",
    "Si una pieza de un asteroide que es más grande que 25 metros pero más pequeña que 1000 metros golpeara la Tierra, causaría mucho daño.\n",
    "También discutimos en el ejercicio anterior que:\n",
    "\n",
    "La velocidad del asteroide varía en función de lo cerca que esté del sol, y cualquier velocidad superior a 25 kilómetros por segundo (km/s) merece una advertencia.\n",
    "Si un asteroide entra en la atmósfera de la Tierra a una velocidad mayor o igual a 20 km/s, a veces produce un rayo de luz que se puede ver desde la Tierra.\n",
    "Usando toda esta información, escribe un programa que emita la advertencia o información correcta a la gente de la Tierra, según la velocidad y el tamaño de un asteroide. Utiliza instrucciones if, else, y elif, así como los operadores and y or."
   ]
  },
  {
   "cell_type": "code",
   "execution_count": null,
   "metadata": {},
   "outputs": [],
   "source": [
    "# Agrega el código para crear nuevas variables para la velocidad y el tamaño del asteroide\n",
    "# Para probar el código, prueba con varias velocidades y tamaños\n",
    "# Escribe varias expresiones de prueba o combinaciones de expresiones de prueba para determinar qué \n",
    "# mensaje se debe enviar a Tierra.\n",
    "\n",
    "vel_ast = 25\n",
    "tam_ast = 40\n",
    "if vel_ast > 25 and tam_ast > 25:\n",
    "    print(\"Peligro! Esl asteroide que viene a la Tierra es de cuidado\")\n",
    "elif vel_ast >= 20:\n",
    "    print(\"Habrá una luz en el cielo debido al asteroide\")\n",
    "elif tam_ast < 25:\n",
    "    print(\"No hay peligro\")\n",
    "else:\n",
    "    print(\"No hay peligro\")"
   ]
  }
 ],
 "metadata": {
  "interpreter": {
   "hash": "88b89bc8cb5c8899b4127f55b127c9aad0e9a590f2419bc25d4a6ed22ff04d80"
  },
  "kernelspec": {
   "display_name": "Python 3.9.5 64-bit",
   "language": "python",
   "name": "python3"
  },
  "language_info": {
   "codemirror_mode": {
    "name": "ipython",
    "version": 3
   },
   "file_extension": ".py",
   "mimetype": "text/x-python",
   "name": "python",
   "nbconvert_exporter": "python",
   "pygments_lexer": "ipython3",
   "version": "3.9.5"
  },
  "orig_nbformat": 4
 },
 "nbformat": 4,
 "nbformat_minor": 2
}
